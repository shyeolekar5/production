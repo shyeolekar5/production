{
 "cells": [
  {
   "cell_type": "code",
   "execution_count": 1,
   "metadata": {},
   "outputs": [],
   "source": [
    "%load_ext dotenv\n",
    "%dotenv \n",
    "import os\n",
    "import sys\n",
    "sys.path.append(os.getenv('SRC_DIR'))\n",
    "from logger import get_logger\n",
    "_logs = get_logger(__name__)"
   ]
  },
  {
   "cell_type": "code",
   "execution_count": 2,
   "metadata": {},
   "outputs": [
    {
     "name": "stderr",
     "output_type": "stream",
     "text": [
      "c:\\Users\\syeolekar\\.conda\\envs\\dsi_participant\\lib\\site-packages\\dask\\dataframe\\_pyarrow_compat.py:15: FutureWarning: Minimal version of pyarrow will soon be increased to 14.0.1. You are using 11.0.0. Please consider upgrading.\n",
      "  warnings.warn(\n"
     ]
    }
   ],
   "source": [
    "import dask.dataframe as dd\n",
    "import pandas as pd\n",
    "import numpy as np\n",
    "import os\n",
    "from glob import glob"
   ]
  },
  {
   "cell_type": "code",
   "execution_count": 4,
   "metadata": {},
   "outputs": [
    {
     "data": {
      "text/html": [
       "<div>\n",
       "<style scoped>\n",
       "    .dataframe tbody tr th:only-of-type {\n",
       "        vertical-align: middle;\n",
       "    }\n",
       "\n",
       "    .dataframe tbody tr th {\n",
       "        vertical-align: top;\n",
       "    }\n",
       "\n",
       "    .dataframe thead th {\n",
       "        text-align: right;\n",
       "    }\n",
       "</style>\n",
       "<table border=\"1\" class=\"dataframe\">\n",
       "  <thead>\n",
       "    <tr style=\"text-align: right;\">\n",
       "      <th>Price</th>\n",
       "      <th>Ticker</th>\n",
       "      <th>Date</th>\n",
       "      <th>Adj Close</th>\n",
       "      <th>Close</th>\n",
       "      <th>High</th>\n",
       "      <th>Low</th>\n",
       "      <th>Open</th>\n",
       "      <th>Volume</th>\n",
       "      <th>Year</th>\n",
       "      <th>Close_lag_1</th>\n",
       "    </tr>\n",
       "  </thead>\n",
       "  <tbody>\n",
       "    <tr>\n",
       "      <th>0</th>\n",
       "      <td>DOV</td>\n",
       "      <td>2023-01-03 00:00:00+00:00</td>\n",
       "      <td>131.672836</td>\n",
       "      <td>135.070007</td>\n",
       "      <td>136.639999</td>\n",
       "      <td>133.720001</td>\n",
       "      <td>135.889999</td>\n",
       "      <td>798000.0</td>\n",
       "      <td>2023</td>\n",
       "      <td>NaN</td>\n",
       "    </tr>\n",
       "    <tr>\n",
       "      <th>1</th>\n",
       "      <td>DOV</td>\n",
       "      <td>2023-01-04 00:00:00+00:00</td>\n",
       "      <td>132.745148</td>\n",
       "      <td>136.169998</td>\n",
       "      <td>136.500000</td>\n",
       "      <td>134.720001</td>\n",
       "      <td>136.000000</td>\n",
       "      <td>592900.0</td>\n",
       "      <td>2023</td>\n",
       "      <td>135.070007</td>\n",
       "    </tr>\n",
       "    <tr>\n",
       "      <th>2</th>\n",
       "      <td>DOV</td>\n",
       "      <td>2023-01-05 00:00:00+00:00</td>\n",
       "      <td>131.039200</td>\n",
       "      <td>134.419998</td>\n",
       "      <td>136.050003</td>\n",
       "      <td>134.029999</td>\n",
       "      <td>135.259995</td>\n",
       "      <td>549800.0</td>\n",
       "      <td>2023</td>\n",
       "      <td>136.169998</td>\n",
       "    </tr>\n",
       "    <tr>\n",
       "      <th>3</th>\n",
       "      <td>DOV</td>\n",
       "      <td>2023-01-06 00:00:00+00:00</td>\n",
       "      <td>135.913437</td>\n",
       "      <td>139.419998</td>\n",
       "      <td>139.949997</td>\n",
       "      <td>135.610001</td>\n",
       "      <td>135.940002</td>\n",
       "      <td>649800.0</td>\n",
       "      <td>2023</td>\n",
       "      <td>134.419998</td>\n",
       "    </tr>\n",
       "    <tr>\n",
       "      <th>4</th>\n",
       "      <td>DOV</td>\n",
       "      <td>2023-01-09 00:00:00+00:00</td>\n",
       "      <td>135.416260</td>\n",
       "      <td>138.910004</td>\n",
       "      <td>141.740005</td>\n",
       "      <td>138.600006</td>\n",
       "      <td>139.539993</td>\n",
       "      <td>1064600.0</td>\n",
       "      <td>2023</td>\n",
       "      <td>139.419998</td>\n",
       "    </tr>\n",
       "    <tr>\n",
       "      <th>...</th>\n",
       "      <td>...</td>\n",
       "      <td>...</td>\n",
       "      <td>...</td>\n",
       "      <td>...</td>\n",
       "      <td>...</td>\n",
       "      <td>...</td>\n",
       "      <td>...</td>\n",
       "      <td>...</td>\n",
       "      <td>...</td>\n",
       "      <td>...</td>\n",
       "    </tr>\n",
       "    <tr>\n",
       "      <th>1923935</th>\n",
       "      <td>MCD</td>\n",
       "      <td>2025-01-24 00:00:00+00:00</td>\n",
       "      <td>285.459991</td>\n",
       "      <td>285.459991</td>\n",
       "      <td>286.850006</td>\n",
       "      <td>283.279999</td>\n",
       "      <td>284.510010</td>\n",
       "      <td>2523000.0</td>\n",
       "      <td>2025</td>\n",
       "      <td>284.429993</td>\n",
       "    </tr>\n",
       "    <tr>\n",
       "      <th>1923936</th>\n",
       "      <td>MCD</td>\n",
       "      <td>2025-01-27 00:00:00+00:00</td>\n",
       "      <td>293.089996</td>\n",
       "      <td>293.089996</td>\n",
       "      <td>293.429993</td>\n",
       "      <td>285.809998</td>\n",
       "      <td>286.609985</td>\n",
       "      <td>4343000.0</td>\n",
       "      <td>2025</td>\n",
       "      <td>285.459991</td>\n",
       "    </tr>\n",
       "    <tr>\n",
       "      <th>1923937</th>\n",
       "      <td>MCD</td>\n",
       "      <td>2025-01-28 00:00:00+00:00</td>\n",
       "      <td>291.149994</td>\n",
       "      <td>291.149994</td>\n",
       "      <td>294.489990</td>\n",
       "      <td>290.000000</td>\n",
       "      <td>292.399994</td>\n",
       "      <td>3180100.0</td>\n",
       "      <td>2025</td>\n",
       "      <td>293.089996</td>\n",
       "    </tr>\n",
       "    <tr>\n",
       "      <th>1923938</th>\n",
       "      <td>MCD</td>\n",
       "      <td>2025-01-29 00:00:00+00:00</td>\n",
       "      <td>290.109985</td>\n",
       "      <td>290.109985</td>\n",
       "      <td>293.140015</td>\n",
       "      <td>290.000000</td>\n",
       "      <td>291.380005</td>\n",
       "      <td>2358300.0</td>\n",
       "      <td>2025</td>\n",
       "      <td>291.149994</td>\n",
       "    </tr>\n",
       "    <tr>\n",
       "      <th>1923939</th>\n",
       "      <td>MCD</td>\n",
       "      <td>2025-01-30 00:00:00+00:00</td>\n",
       "      <td>290.320007</td>\n",
       "      <td>290.320007</td>\n",
       "      <td>292.079987</td>\n",
       "      <td>289.359985</td>\n",
       "      <td>290.910004</td>\n",
       "      <td>2125200.0</td>\n",
       "      <td>2025</td>\n",
       "      <td>290.109985</td>\n",
       "    </tr>\n",
       "  </tbody>\n",
       "</table>\n",
       "<p>1923940 rows × 10 columns</p>\n",
       "</div>"
      ],
      "text/plain": [
       "Price   Ticker                      Date   Adj Close       Close        High  \\\n",
       "0          DOV 2023-01-03 00:00:00+00:00  131.672836  135.070007  136.639999   \n",
       "1          DOV 2023-01-04 00:00:00+00:00  132.745148  136.169998  136.500000   \n",
       "2          DOV 2023-01-05 00:00:00+00:00  131.039200  134.419998  136.050003   \n",
       "3          DOV 2023-01-06 00:00:00+00:00  135.913437  139.419998  139.949997   \n",
       "4          DOV 2023-01-09 00:00:00+00:00  135.416260  138.910004  141.740005   \n",
       "...        ...                       ...         ...         ...         ...   \n",
       "1923935    MCD 2025-01-24 00:00:00+00:00  285.459991  285.459991  286.850006   \n",
       "1923936    MCD 2025-01-27 00:00:00+00:00  293.089996  293.089996  293.429993   \n",
       "1923937    MCD 2025-01-28 00:00:00+00:00  291.149994  291.149994  294.489990   \n",
       "1923938    MCD 2025-01-29 00:00:00+00:00  290.109985  290.109985  293.140015   \n",
       "1923939    MCD 2025-01-30 00:00:00+00:00  290.320007  290.320007  292.079987   \n",
       "\n",
       "Price           Low        Open     Volume  Year  Close_lag_1  \n",
       "0        133.720001  135.889999   798000.0  2023          NaN  \n",
       "1        134.720001  136.000000   592900.0  2023   135.070007  \n",
       "2        134.029999  135.259995   549800.0  2023   136.169998  \n",
       "3        135.610001  135.940002   649800.0  2023   134.419998  \n",
       "4        138.600006  139.539993  1064600.0  2023   139.419998  \n",
       "...             ...         ...        ...   ...          ...  \n",
       "1923935  283.279999  284.510010  2523000.0  2025   284.429993  \n",
       "1923936  285.809998  286.609985  4343000.0  2025   285.459991  \n",
       "1923937  290.000000  292.399994  3180100.0  2025   293.089996  \n",
       "1923938  290.000000  291.380005  2358300.0  2025   291.149994  \n",
       "1923939  289.359985  290.910004  2125200.0  2025   290.109985  \n",
       "\n",
       "[1923940 rows x 10 columns]"
      ]
     },
     "execution_count": 4,
     "metadata": {},
     "output_type": "execute_result"
    }
   ],
   "source": [
    "ft_dir = os.getenv(\"FEATURES_DATA\")\n",
    "ft_glob = glob(ft_dir+'/*.parquet')\n",
    "df = dd.read_parquet(ft_glob).compute().reset_index()\n",
    "df"
   ]
  },
  {
   "cell_type": "markdown",
   "metadata": {},
   "source": [
    "# Sampling in Python"
   ]
  },
  {
   "cell_type": "markdown",
   "metadata": {},
   "source": [
    "+ There are different packages that allow sampling.\n",
    "+ A practical approach is to use pandas/Dask sampling methods."
   ]
  },
  {
   "cell_type": "markdown",
   "metadata": {},
   "source": [
    "## Random Sampling\n",
    "\n",
    "+ Sample n rows from a dataframe with [`df.sample()`](https://pandas.pydata.org/docs/reference/api/pandas.DataFrame.sample.html).\n",
    "\n",
    "```\n",
    "DataFrame.sample(\n",
    "    n=None, frac=None, replace=False, weights=None, \n",
    "    random_state=None, axis=None, ignore_index=False\n",
    "    )\n",
    "```"
   ]
  },
  {
   "cell_type": "code",
   "execution_count": 5,
   "metadata": {},
   "outputs": [
    {
     "data": {
      "text/html": [
       "<div>\n",
       "<style scoped>\n",
       "    .dataframe tbody tr th:only-of-type {\n",
       "        vertical-align: middle;\n",
       "    }\n",
       "\n",
       "    .dataframe tbody tr th {\n",
       "        vertical-align: top;\n",
       "    }\n",
       "\n",
       "    .dataframe thead th {\n",
       "        text-align: right;\n",
       "    }\n",
       "</style>\n",
       "<table border=\"1\" class=\"dataframe\">\n",
       "  <thead>\n",
       "    <tr style=\"text-align: right;\">\n",
       "      <th>Price</th>\n",
       "      <th>Ticker</th>\n",
       "      <th>Date</th>\n",
       "      <th>Adj Close</th>\n",
       "      <th>Close</th>\n",
       "      <th>High</th>\n",
       "      <th>Low</th>\n",
       "      <th>Open</th>\n",
       "      <th>Volume</th>\n",
       "      <th>Year</th>\n",
       "      <th>Close_lag_1</th>\n",
       "    </tr>\n",
       "  </thead>\n",
       "  <tbody>\n",
       "    <tr>\n",
       "      <th>1706478</th>\n",
       "      <td>LUV</td>\n",
       "      <td>2016-03-09 00:00:00+00:00</td>\n",
       "      <td>38.516941</td>\n",
       "      <td>42.320000</td>\n",
       "      <td>42.410000</td>\n",
       "      <td>41.310001</td>\n",
       "      <td>41.709999</td>\n",
       "      <td>6965700.0</td>\n",
       "      <td>2016</td>\n",
       "      <td>41.590000</td>\n",
       "    </tr>\n",
       "    <tr>\n",
       "      <th>278973</th>\n",
       "      <td>DVA</td>\n",
       "      <td>2013-08-22 00:00:00+00:00</td>\n",
       "      <td>54.985001</td>\n",
       "      <td>54.985001</td>\n",
       "      <td>55.505001</td>\n",
       "      <td>54.639999</td>\n",
       "      <td>55.345001</td>\n",
       "      <td>1430000.0</td>\n",
       "      <td>2013</td>\n",
       "      <td>55.244999</td>\n",
       "    </tr>\n",
       "    <tr>\n",
       "      <th>1247864</th>\n",
       "      <td>OXY</td>\n",
       "      <td>2022-07-22 00:00:00+00:00</td>\n",
       "      <td>59.139099</td>\n",
       "      <td>61.060001</td>\n",
       "      <td>63.000000</td>\n",
       "      <td>60.410000</td>\n",
       "      <td>62.000000</td>\n",
       "      <td>14198400.0</td>\n",
       "      <td>2022</td>\n",
       "      <td>62.000000</td>\n",
       "    </tr>\n",
       "    <tr>\n",
       "      <th>1693452</th>\n",
       "      <td>TXT</td>\n",
       "      <td>2009-07-27 00:00:00+00:00</td>\n",
       "      <td>10.787559</td>\n",
       "      <td>11.150000</td>\n",
       "      <td>11.300000</td>\n",
       "      <td>11.010000</td>\n",
       "      <td>11.250000</td>\n",
       "      <td>5905900.0</td>\n",
       "      <td>2009</td>\n",
       "      <td>11.310000</td>\n",
       "    </tr>\n",
       "    <tr>\n",
       "      <th>16208</th>\n",
       "      <td>DTE</td>\n",
       "      <td>2018-04-12 00:00:00+00:00</td>\n",
       "      <td>69.378426</td>\n",
       "      <td>86.893616</td>\n",
       "      <td>88.221275</td>\n",
       "      <td>86.655319</td>\n",
       "      <td>88.093620</td>\n",
       "      <td>716163.0</td>\n",
       "      <td>2018</td>\n",
       "      <td>87.948936</td>\n",
       "    </tr>\n",
       "  </tbody>\n",
       "</table>\n",
       "</div>"
      ],
      "text/plain": [
       "Price   Ticker                      Date  Adj Close      Close       High  \\\n",
       "1706478    LUV 2016-03-09 00:00:00+00:00  38.516941  42.320000  42.410000   \n",
       "278973     DVA 2013-08-22 00:00:00+00:00  54.985001  54.985001  55.505001   \n",
       "1247864    OXY 2022-07-22 00:00:00+00:00  59.139099  61.060001  63.000000   \n",
       "1693452    TXT 2009-07-27 00:00:00+00:00  10.787559  11.150000  11.300000   \n",
       "16208      DTE 2018-04-12 00:00:00+00:00  69.378426  86.893616  88.221275   \n",
       "\n",
       "Price          Low       Open      Volume  Year  Close_lag_1  \n",
       "1706478  41.310001  41.709999   6965700.0  2016    41.590000  \n",
       "278973   54.639999  55.345001   1430000.0  2013    55.244999  \n",
       "1247864  60.410000  62.000000  14198400.0  2022    62.000000  \n",
       "1693452  11.010000  11.250000   5905900.0  2009    11.310000  \n",
       "16208    86.655319  88.093620    716163.0  2018    87.948936  "
      ]
     },
     "execution_count": 5,
     "metadata": {},
     "output_type": "execute_result"
    }
   ],
   "source": [
    "df.sample(n = 5)"
   ]
  },
  {
   "cell_type": "code",
   "execution_count": 6,
   "metadata": {},
   "outputs": [
    {
     "data": {
      "text/plain": [
       "['OXY', 'TXN', 'PCG', 'CBRE', 'ROK', 'AMT', 'D', 'YUM', 'PWR']"
      ]
     },
     "execution_count": 6,
     "metadata": {},
     "output_type": "execute_result"
    }
   ],
   "source": [
    "# select_tickers = df['ticker'].unique().tolist()[0:9]\n",
    "select_tickers = ['OXY', 'TXN', 'PCG', 'CBRE', 'ROK', 'AMT', 'D', 'YUM', 'PWR']\n",
    "select_tickers"
   ]
  },
  {
   "cell_type": "code",
   "execution_count": 8,
   "metadata": {},
   "outputs": [
    {
     "data": {
      "text/plain": [
       "((5046, 10), (50464, 10))"
      ]
     },
     "execution_count": 8,
     "metadata": {},
     "output_type": "execute_result"
    }
   ],
   "source": [
    "idx = df['Ticker'].isin(select_tickers)\n",
    "small_df = df[idx]\n",
    "simple_sample_dt = small_df.sample(frac = 0.1)\n",
    "simple_sample_dt.shape, small_df.shape"
   ]
  },
  {
   "cell_type": "markdown",
   "metadata": {},
   "source": [
    "Look at the distribution of tickers."
   ]
  },
  {
   "cell_type": "code",
   "execution_count": 10,
   "metadata": {},
   "outputs": [
    {
     "data": {
      "text/plain": [
       "<Axes: xlabel='Ticker'>"
      ]
     },
     "execution_count": 10,
     "metadata": {},
     "output_type": "execute_result"
    },
    {
     "data": {
      "image/png": "[encoded data removed]",
      "text/plain": [
       "<Figure size 640x480 with 1 Axes>"
      ]
     },
     "metadata": {},
     "output_type": "display_data"
    }
   ],
   "source": [
    "small_df['Ticker'].value_counts().plot(kind='bar')"
   ]
  },
  {
   "cell_type": "code",
   "execution_count": 11,
   "metadata": {},
   "outputs": [
    {
     "data": {
      "text/plain": [
       "<Axes: xlabel='Ticker'>"
      ]
     },
     "execution_count": 11,
     "metadata": {},
     "output_type": "execute_result"
    },
    {
     "data": {
      "image/png": "[encoded data removed]",
      "text/plain": [
       "<Figure size 640x480 with 1 Axes>"
      ]
     },
     "metadata": {},
     "output_type": "display_data"
    }
   ],
   "source": [
    "simple_sample_dt['Ticker'].value_counts().plot(kind='bar')"
   ]
  },
  {
   "cell_type": "markdown",
   "metadata": {},
   "source": [
    "## Stratified Sampling\n",
    "\n",
    "+ Use `groupby()` and `.sample()` for stratified sampling."
   ]
  },
  {
   "cell_type": "code",
   "execution_count": 13,
   "metadata": {},
   "outputs": [
    {
     "data": {
      "text/plain": [
       "<Axes: xlabel='Ticker'>"
      ]
     },
     "execution_count": 13,
     "metadata": {},
     "output_type": "execute_result"
    },
    {
     "data": {
      "image/png": "[encoded data removed]",
      "text/plain": [
       "<Figure size 640x480 with 1 Axes>"
      ]
     },
     "metadata": {},
     "output_type": "display_data"
    }
   ],
   "source": [
    "strat_sample_dt = small_df.groupby(['Ticker']).sample(frac = 0.1)\n",
    "strat_sample_dt['Ticker'].value_counts().plot(kind='bar')"
   ]
  },
  {
   "cell_type": "markdown",
   "metadata": {},
   "source": [
    "# Sampling in Dask\n",
    "\n",
    "+ Stratified sampling in `dask` can be achieved with `groupby().apply()` and a lambda function."
   ]
  },
  {
   "cell_type": "code",
   "execution_count": 15,
   "metadata": {},
   "outputs": [
    {
     "name": "stderr",
     "output_type": "stream",
     "text": [
      "C:\\Users\\syeolekar\\AppData\\Local\\Temp\\ipykernel_4368\\2388710987.py:2: UserWarning: `meta` is not specified, inferred from partial data. Please provide `meta` if the result is unexpected.\n",
      "  Before: .apply(func)\n",
      "  After:  .apply(func, meta={'x': 'f8', 'y': 'f8'}) for dataframe result\n",
      "  or:     .apply(func, meta=('x', 'f8'))            for series result\n",
      "  strat_sample_dd_dt = (dd_dt\n"
     ]
    },
    {
     "data": {
      "text/plain": [
       "<Axes: xlabel='Ticker'>"
      ]
     },
     "execution_count": 15,
     "metadata": {},
     "output_type": "execute_result"
    },
    {
     "data": {
      "image/png": "[encoded data removed]",
      "text/plain": [
       "<Figure size 640x480 with 1 Axes>"
      ]
     },
     "metadata": {},
     "output_type": "display_data"
    }
   ],
   "source": [
    "dd_dt = dd.read_parquet(ft_glob)\n",
    "strat_sample_dd_dt = (dd_dt\n",
    "                      .groupby('Ticker', group_keys=False)\n",
    "                      .apply(lambda x: x.sample(frac = 0.1))\n",
    "                      .compute()\n",
    "                      .reset_index())\n",
    "strat_sample_dd_dt[strat_sample_dd_dt['Ticker'].isin(select_tickers)]['Ticker'].value_counts().plot(kind='bar')"
   ]
  }
 ],
 "metadata": {
  "kernelspec": {
   "display_name": "dsi_participant",
   "language": "python",
   "name": "python3"
  },
  "language_info": {
   "codemirror_mode": {
    "name": "ipython",
    "version": 3
   },
   "file_extension": ".py",
   "mimetype": "text/x-python",
   "name": "python",
   "nbconvert_exporter": "python",
   "pygments_lexer": "ipython3",
   "version": "3.9.15"
  }
 },
 "nbformat": 4,
 "nbformat_minor": 2
}
